{
 "cells": [
  {
   "cell_type": "markdown",
   "id": "e624e4e6",
   "metadata": {
    "id": "e624e4e6"
   },
   "source": [
    "# `Scikit-learn` project"
   ]
  },
  {
   "cell_type": "markdown",
   "id": "479374e5",
   "metadata": {
    "id": "479374e5"
   },
   "source": [
    "### Imports"
   ]
  },
  {
   "cell_type": "code",
   "execution_count": 1,
   "id": "19b0f6c1",
   "metadata": {
    "id": "19b0f6c1"
   },
   "outputs": [],
   "source": [
    "from sklearn.preprocessing import StandardScaler\n",
    "import pandas as pd\n",
    "import numpy as np\n",
    "from sklearn.pipeline import Pipeline\n",
    "from sklearn.svm import SVC, LinearSVC\n",
    "from sklearn.datasets import make_blobs, make_circles\n",
    "from sklearn.linear_model import LinearRegression, Ridge, Lasso, ElasticNet\n",
    "from sklearn.model_selection import train_test_split, KFold, GridSearchCV\n",
    "from sklearn.ensemble import RandomForestRegressor, GradientBoostingRegressor\n",
    "import matplotlib.pyplot as plt\n",
    "from sklearn.decomposition import PCA\n",
    "from sklearn.cluster import KMeans\n",
    "from sklearn.metrics import silhouette_score, mean_squared_error\n",
    "from matplotlib.patches import Polygon\n",
    "import matplotlib.pyplot as plt"
   ]
  },
  {
   "cell_type": "markdown",
   "id": "7ouoJsixRtQL",
   "metadata": {
    "id": "7ouoJsixRtQL"
   },
   "source": [
    "Airbnb has become one of the most used platform to book nights in the last 10 years. By it's size, New York is certainly the city where the paltform is the most present. With a data frame found on [Kaggle](https://www.kaggle.com/datasets/dgomonov/new-york-city-airbnb-open-data) we will try to find the best model to predict the prices of Airbnbs in the big apple. "
   ]
  },
  {
   "cell_type": "markdown",
   "id": "f78765c4",
   "metadata": {
    "id": "f78765c4"
   },
   "source": [
    "# Import the dataset"
   ]
  },
  {
   "cell_type": "code",
   "execution_count": 2,
   "id": "6c8e1e7e",
   "metadata": {
    "id": "6c8e1e7e"
   },
   "outputs": [],
   "source": [
    "data_ab_NY = pd.read_csv(\"AB_NYC_2019.csv\")"
   ]
  },
  {
   "cell_type": "code",
   "execution_count": 3,
   "id": "d4a93524",
   "metadata": {
    "colab": {
     "base_uri": "https://localhost:8080/",
     "height": 870
    },
    "id": "d4a93524",
    "outputId": "fa11514e-1f0c-4a26-a3e6-62d2ae396681"
   },
   "outputs": [
    {
     "data": {
      "text/html": [
       "<div>\n",
       "<style scoped>\n",
       "    .dataframe tbody tr th:only-of-type {\n",
       "        vertical-align: middle;\n",
       "    }\n",
       "\n",
       "    .dataframe tbody tr th {\n",
       "        vertical-align: top;\n",
       "    }\n",
       "\n",
       "    .dataframe thead th {\n",
       "        text-align: right;\n",
       "    }\n",
       "</style>\n",
       "<table border=\"1\" class=\"dataframe\">\n",
       "  <thead>\n",
       "    <tr style=\"text-align: right;\">\n",
       "      <th></th>\n",
       "      <th>id</th>\n",
       "      <th>name</th>\n",
       "      <th>host_id</th>\n",
       "      <th>host_name</th>\n",
       "      <th>neighbourhood_group</th>\n",
       "      <th>neighbourhood</th>\n",
       "      <th>latitude</th>\n",
       "      <th>longitude</th>\n",
       "      <th>room_type</th>\n",
       "      <th>price</th>\n",
       "      <th>minimum_nights</th>\n",
       "      <th>number_of_reviews</th>\n",
       "      <th>last_review</th>\n",
       "      <th>reviews_per_month</th>\n",
       "      <th>calculated_host_listings_count</th>\n",
       "      <th>availability_365</th>\n",
       "    </tr>\n",
       "  </thead>\n",
       "  <tbody>\n",
       "    <tr>\n",
       "      <th>0</th>\n",
       "      <td>2539</td>\n",
       "      <td>Clean &amp; quiet apt home by the park</td>\n",
       "      <td>2787</td>\n",
       "      <td>John</td>\n",
       "      <td>Brooklyn</td>\n",
       "      <td>Kensington</td>\n",
       "      <td>40.64749</td>\n",
       "      <td>-73.97237</td>\n",
       "      <td>Private room</td>\n",
       "      <td>149</td>\n",
       "      <td>1</td>\n",
       "      <td>9</td>\n",
       "      <td>2018-10-19</td>\n",
       "      <td>0.21</td>\n",
       "      <td>6</td>\n",
       "      <td>365</td>\n",
       "    </tr>\n",
       "    <tr>\n",
       "      <th>1</th>\n",
       "      <td>2595</td>\n",
       "      <td>Skylit Midtown Castle</td>\n",
       "      <td>2845</td>\n",
       "      <td>Jennifer</td>\n",
       "      <td>Manhattan</td>\n",
       "      <td>Midtown</td>\n",
       "      <td>40.75362</td>\n",
       "      <td>-73.98377</td>\n",
       "      <td>Entire home/apt</td>\n",
       "      <td>225</td>\n",
       "      <td>1</td>\n",
       "      <td>45</td>\n",
       "      <td>2019-05-21</td>\n",
       "      <td>0.38</td>\n",
       "      <td>2</td>\n",
       "      <td>355</td>\n",
       "    </tr>\n",
       "    <tr>\n",
       "      <th>2</th>\n",
       "      <td>3647</td>\n",
       "      <td>THE VILLAGE OF HARLEM....NEW YORK !</td>\n",
       "      <td>4632</td>\n",
       "      <td>Elisabeth</td>\n",
       "      <td>Manhattan</td>\n",
       "      <td>Harlem</td>\n",
       "      <td>40.80902</td>\n",
       "      <td>-73.94190</td>\n",
       "      <td>Private room</td>\n",
       "      <td>150</td>\n",
       "      <td>3</td>\n",
       "      <td>0</td>\n",
       "      <td>NaN</td>\n",
       "      <td>NaN</td>\n",
       "      <td>1</td>\n",
       "      <td>365</td>\n",
       "    </tr>\n",
       "    <tr>\n",
       "      <th>3</th>\n",
       "      <td>3831</td>\n",
       "      <td>Cozy Entire Floor of Brownstone</td>\n",
       "      <td>4869</td>\n",
       "      <td>LisaRoxanne</td>\n",
       "      <td>Brooklyn</td>\n",
       "      <td>Clinton Hill</td>\n",
       "      <td>40.68514</td>\n",
       "      <td>-73.95976</td>\n",
       "      <td>Entire home/apt</td>\n",
       "      <td>89</td>\n",
       "      <td>1</td>\n",
       "      <td>270</td>\n",
       "      <td>2019-07-05</td>\n",
       "      <td>4.64</td>\n",
       "      <td>1</td>\n",
       "      <td>194</td>\n",
       "    </tr>\n",
       "    <tr>\n",
       "      <th>4</th>\n",
       "      <td>5022</td>\n",
       "      <td>Entire Apt: Spacious Studio/Loft by central park</td>\n",
       "      <td>7192</td>\n",
       "      <td>Laura</td>\n",
       "      <td>Manhattan</td>\n",
       "      <td>East Harlem</td>\n",
       "      <td>40.79851</td>\n",
       "      <td>-73.94399</td>\n",
       "      <td>Entire home/apt</td>\n",
       "      <td>80</td>\n",
       "      <td>10</td>\n",
       "      <td>9</td>\n",
       "      <td>2018-11-19</td>\n",
       "      <td>0.10</td>\n",
       "      <td>1</td>\n",
       "      <td>0</td>\n",
       "    </tr>\n",
       "    <tr>\n",
       "      <th>...</th>\n",
       "      <td>...</td>\n",
       "      <td>...</td>\n",
       "      <td>...</td>\n",
       "      <td>...</td>\n",
       "      <td>...</td>\n",
       "      <td>...</td>\n",
       "      <td>...</td>\n",
       "      <td>...</td>\n",
       "      <td>...</td>\n",
       "      <td>...</td>\n",
       "      <td>...</td>\n",
       "      <td>...</td>\n",
       "      <td>...</td>\n",
       "      <td>...</td>\n",
       "      <td>...</td>\n",
       "      <td>...</td>\n",
       "    </tr>\n",
       "    <tr>\n",
       "      <th>48890</th>\n",
       "      <td>36484665</td>\n",
       "      <td>Charming one bedroom - newly renovated rowhouse</td>\n",
       "      <td>8232441</td>\n",
       "      <td>Sabrina</td>\n",
       "      <td>Brooklyn</td>\n",
       "      <td>Bedford-Stuyvesant</td>\n",
       "      <td>40.67853</td>\n",
       "      <td>-73.94995</td>\n",
       "      <td>Private room</td>\n",
       "      <td>70</td>\n",
       "      <td>2</td>\n",
       "      <td>0</td>\n",
       "      <td>NaN</td>\n",
       "      <td>NaN</td>\n",
       "      <td>2</td>\n",
       "      <td>9</td>\n",
       "    </tr>\n",
       "    <tr>\n",
       "      <th>48891</th>\n",
       "      <td>36485057</td>\n",
       "      <td>Affordable room in Bushwick/East Williamsburg</td>\n",
       "      <td>6570630</td>\n",
       "      <td>Marisol</td>\n",
       "      <td>Brooklyn</td>\n",
       "      <td>Bushwick</td>\n",
       "      <td>40.70184</td>\n",
       "      <td>-73.93317</td>\n",
       "      <td>Private room</td>\n",
       "      <td>40</td>\n",
       "      <td>4</td>\n",
       "      <td>0</td>\n",
       "      <td>NaN</td>\n",
       "      <td>NaN</td>\n",
       "      <td>2</td>\n",
       "      <td>36</td>\n",
       "    </tr>\n",
       "    <tr>\n",
       "      <th>48892</th>\n",
       "      <td>36485431</td>\n",
       "      <td>Sunny Studio at Historical Neighborhood</td>\n",
       "      <td>23492952</td>\n",
       "      <td>Ilgar &amp; Aysel</td>\n",
       "      <td>Manhattan</td>\n",
       "      <td>Harlem</td>\n",
       "      <td>40.81475</td>\n",
       "      <td>-73.94867</td>\n",
       "      <td>Entire home/apt</td>\n",
       "      <td>115</td>\n",
       "      <td>10</td>\n",
       "      <td>0</td>\n",
       "      <td>NaN</td>\n",
       "      <td>NaN</td>\n",
       "      <td>1</td>\n",
       "      <td>27</td>\n",
       "    </tr>\n",
       "    <tr>\n",
       "      <th>48893</th>\n",
       "      <td>36485609</td>\n",
       "      <td>43rd St. Time Square-cozy single bed</td>\n",
       "      <td>30985759</td>\n",
       "      <td>Taz</td>\n",
       "      <td>Manhattan</td>\n",
       "      <td>Hell's Kitchen</td>\n",
       "      <td>40.75751</td>\n",
       "      <td>-73.99112</td>\n",
       "      <td>Shared room</td>\n",
       "      <td>55</td>\n",
       "      <td>1</td>\n",
       "      <td>0</td>\n",
       "      <td>NaN</td>\n",
       "      <td>NaN</td>\n",
       "      <td>6</td>\n",
       "      <td>2</td>\n",
       "    </tr>\n",
       "    <tr>\n",
       "      <th>48894</th>\n",
       "      <td>36487245</td>\n",
       "      <td>Trendy duplex in the very heart of Hell's Kitchen</td>\n",
       "      <td>68119814</td>\n",
       "      <td>Christophe</td>\n",
       "      <td>Manhattan</td>\n",
       "      <td>Hell's Kitchen</td>\n",
       "      <td>40.76404</td>\n",
       "      <td>-73.98933</td>\n",
       "      <td>Private room</td>\n",
       "      <td>90</td>\n",
       "      <td>7</td>\n",
       "      <td>0</td>\n",
       "      <td>NaN</td>\n",
       "      <td>NaN</td>\n",
       "      <td>1</td>\n",
       "      <td>23</td>\n",
       "    </tr>\n",
       "  </tbody>\n",
       "</table>\n",
       "<p>48895 rows × 16 columns</p>\n",
       "</div>"
      ],
      "text/plain": [
       "             id                                               name   host_id  \\\n",
       "0          2539                 Clean & quiet apt home by the park      2787   \n",
       "1          2595                              Skylit Midtown Castle      2845   \n",
       "2          3647                THE VILLAGE OF HARLEM....NEW YORK !      4632   \n",
       "3          3831                    Cozy Entire Floor of Brownstone      4869   \n",
       "4          5022   Entire Apt: Spacious Studio/Loft by central park      7192   \n",
       "...         ...                                                ...       ...   \n",
       "48890  36484665    Charming one bedroom - newly renovated rowhouse   8232441   \n",
       "48891  36485057      Affordable room in Bushwick/East Williamsburg   6570630   \n",
       "48892  36485431            Sunny Studio at Historical Neighborhood  23492952   \n",
       "48893  36485609               43rd St. Time Square-cozy single bed  30985759   \n",
       "48894  36487245  Trendy duplex in the very heart of Hell's Kitchen  68119814   \n",
       "\n",
       "           host_name neighbourhood_group       neighbourhood  latitude  \\\n",
       "0               John            Brooklyn          Kensington  40.64749   \n",
       "1           Jennifer           Manhattan             Midtown  40.75362   \n",
       "2          Elisabeth           Manhattan              Harlem  40.80902   \n",
       "3        LisaRoxanne            Brooklyn        Clinton Hill  40.68514   \n",
       "4              Laura           Manhattan         East Harlem  40.79851   \n",
       "...              ...                 ...                 ...       ...   \n",
       "48890        Sabrina            Brooklyn  Bedford-Stuyvesant  40.67853   \n",
       "48891        Marisol            Brooklyn            Bushwick  40.70184   \n",
       "48892  Ilgar & Aysel           Manhattan              Harlem  40.81475   \n",
       "48893            Taz           Manhattan      Hell's Kitchen  40.75751   \n",
       "48894     Christophe           Manhattan      Hell's Kitchen  40.76404   \n",
       "\n",
       "       longitude        room_type  price  minimum_nights  number_of_reviews  \\\n",
       "0      -73.97237     Private room    149               1                  9   \n",
       "1      -73.98377  Entire home/apt    225               1                 45   \n",
       "2      -73.94190     Private room    150               3                  0   \n",
       "3      -73.95976  Entire home/apt     89               1                270   \n",
       "4      -73.94399  Entire home/apt     80              10                  9   \n",
       "...          ...              ...    ...             ...                ...   \n",
       "48890  -73.94995     Private room     70               2                  0   \n",
       "48891  -73.93317     Private room     40               4                  0   \n",
       "48892  -73.94867  Entire home/apt    115              10                  0   \n",
       "48893  -73.99112      Shared room     55               1                  0   \n",
       "48894  -73.98933     Private room     90               7                  0   \n",
       "\n",
       "      last_review  reviews_per_month  calculated_host_listings_count  \\\n",
       "0      2018-10-19               0.21                               6   \n",
       "1      2019-05-21               0.38                               2   \n",
       "2             NaN                NaN                               1   \n",
       "3      2019-07-05               4.64                               1   \n",
       "4      2018-11-19               0.10                               1   \n",
       "...           ...                ...                             ...   \n",
       "48890         NaN                NaN                               2   \n",
       "48891         NaN                NaN                               2   \n",
       "48892         NaN                NaN                               1   \n",
       "48893         NaN                NaN                               6   \n",
       "48894         NaN                NaN                               1   \n",
       "\n",
       "       availability_365  \n",
       "0                   365  \n",
       "1                   355  \n",
       "2                   365  \n",
       "3                   194  \n",
       "4                     0  \n",
       "...                 ...  \n",
       "48890                 9  \n",
       "48891                36  \n",
       "48892                27  \n",
       "48893                 2  \n",
       "48894                23  \n",
       "\n",
       "[48895 rows x 16 columns]"
      ]
     },
     "execution_count": 3,
     "metadata": {},
     "output_type": "execute_result"
    }
   ],
   "source": [
    "data_ab_NY"
   ]
  },
  {
   "cell_type": "code",
   "execution_count": 4,
   "id": "68924918",
   "metadata": {
    "colab": {
     "base_uri": "https://localhost:8080/"
    },
    "id": "68924918",
    "outputId": "173681d1-2531-4e14-f4cf-99957f6c3c3f"
   },
   "outputs": [
    {
     "data": {
      "text/plain": [
       "id                                  int64\n",
       "name                               object\n",
       "host_id                             int64\n",
       "host_name                          object\n",
       "neighbourhood_group                object\n",
       "neighbourhood                      object\n",
       "latitude                          float64\n",
       "longitude                         float64\n",
       "room_type                          object\n",
       "price                               int64\n",
       "minimum_nights                      int64\n",
       "number_of_reviews                   int64\n",
       "last_review                        object\n",
       "reviews_per_month                 float64\n",
       "calculated_host_listings_count      int64\n",
       "availability_365                    int64\n",
       "dtype: object"
      ]
     },
     "execution_count": 4,
     "metadata": {},
     "output_type": "execute_result"
    }
   ],
   "source": [
    "data_ab_NY.dtypes"
   ]
  },
  {
   "cell_type": "markdown",
   "id": "0c1cde13",
   "metadata": {
    "id": "0c1cde13"
   },
   "source": [
    "We first start to find the columns that are not going to interest us. \n",
    "- The `id`and the `name` will not interest us because they are distinct for each row.\n",
    "- The `host_name` is basicly the `host_id` so we can drop it. "
   ]
  },
  {
   "cell_type": "code",
   "execution_count": 5,
   "id": "a754b448",
   "metadata": {
    "id": "a754b448"
   },
   "outputs": [],
   "source": [
    "data_ab_NY = data_ab_NY.drop([\"id\", \"name\", \"host_name\"], axis=1)"
   ]
  },
  {
   "cell_type": "markdown",
   "id": "3280aa0a",
   "metadata": {
    "id": "3280aa0a"
   },
   "source": [
    "We now can check the distinct values of the `host_id` to see if we keep the column or not."
   ]
  },
  {
   "cell_type": "code",
   "execution_count": 6,
   "id": "66d564d6",
   "metadata": {
    "colab": {
     "base_uri": "https://localhost:8080/"
    },
    "id": "66d564d6",
    "outputId": "24d4ec45-dbaa-4f8d-9ab1-4a0607e119ab"
   },
   "outputs": [
    {
     "name": "stdout",
     "output_type": "stream",
     "text": [
      "48895\n",
      "37457\n"
     ]
    }
   ],
   "source": [
    "print(len(data_ab_NY['host_id']))\n",
    "print(len(np.unique(data_ab_NY['host_id'])))"
   ]
  },
  {
   "cell_type": "markdown",
   "id": "a8e22f14",
   "metadata": {
    "id": "a8e22f14"
   },
   "source": [
    "There are to many unique values for `host_id`. We decide to drop this column."
   ]
  },
  {
   "cell_type": "code",
   "execution_count": 7,
   "id": "6f6df471",
   "metadata": {
    "id": "6f6df471"
   },
   "outputs": [],
   "source": [
    "data_ab_NY = data_ab_NY.drop(\"host_id\", axis=1)"
   ]
  },
  {
   "cell_type": "markdown",
   "id": "db1b541f",
   "metadata": {
    "id": "db1b541f"
   },
   "source": [
    "For the others non-numeric variables, we can do the same check to see if we keep or drop the column."
   ]
  },
  {
   "cell_type": "code",
   "execution_count": 16,
   "id": "a1008041",
   "metadata": {
    "colab": {
     "base_uri": "https://localhost:8080/",
     "height": 392
    },
    "id": "a1008041",
    "outputId": "ca02f288-dd8e-40f0-e1b8-5c88bdedb7c0"
   },
   "outputs": [
    {
     "name": "stdout",
     "output_type": "stream",
     "text": [
      "neighbourhood_group : Number of values : 48895 Number of distinct values : 5\n",
      "neighbourhood : Number of values : 48895 Number of distinct values : 221\n",
      "room_type : Number of values : 48895 Number of distinct values : 3\n",
      "last_review : Number of values : 48895 Number of distinct values : 1765\n"
     ]
    }
   ],
   "source": [
    "for var in [\"neighbourhood_group\", \"neighbourhood\", \"room_type\"] :\n",
    "    print(\"{} : Number of values :\".format(var), len(data_ab_NY[var]), \"Number of distinct values : {}\".format(len(np.unique(data_ab_NY[var]))))\n",
    "print(\"{} : Number of values :\".format(\"last_review\"), len(data_ab_NY[\"last_review\"]), \"Number of distinct values : {}\".format(len(np.unique([str(i) for i in data_ab_NY[\"last_review\"]]))))"
   ]
  },
  {
   "cell_type": "markdown",
   "id": "768204c0",
   "metadata": {
    "id": "768204c0"
   },
   "source": [
    "The numbers of distinct neighbourhoods and last_reviews are a bit consequent so we decide to drop `neighbourhood` and `last_review`. We can keep `neighbourhood_group` and `room_type`."
   ]
  },
  {
   "cell_type": "code",
   "execution_count": 17,
   "id": "2191fafa",
   "metadata": {
    "id": "2191fafa"
   },
   "outputs": [],
   "source": [
    "data_ab_NY = data_ab_NY.drop(\"last_review\", axis=1)\n",
    "data_ab_NY = data_ab_NY.drop(\"neighbourhood\", axis=1)"
   ]
  },
  {
   "cell_type": "markdown",
   "id": "40288c87",
   "metadata": {
    "id": "40288c87"
   },
   "source": [
    "For the column `reviews_per_month` we replace the `NA` values with the mean of the column."
   ]
  },
  {
   "cell_type": "code",
   "execution_count": 18,
   "id": "1a581f62",
   "metadata": {
    "id": "1a581f62"
   },
   "outputs": [],
   "source": [
    "mean = data_ab_NY['reviews_per_month'].mean()\n",
    "data_ab_NY['reviews_per_month'] = data_ab_NY['reviews_per_month'].fillna(mean)"
   ]
  },
  {
   "cell_type": "markdown",
   "id": "707f60c6",
   "metadata": {
    "id": "707f60c6"
   },
   "source": [
    "This is how our dataframe looks like now :"
   ]
  },
  {
   "cell_type": "code",
   "execution_count": 19,
   "id": "b30455e0",
   "metadata": {
    "colab": {
     "base_uri": "https://localhost:8080/",
     "height": 661
    },
    "id": "b30455e0",
    "outputId": "42edc4ed-986a-4628-b0a7-41d8a55455c7"
   },
   "outputs": [
    {
     "data": {
      "text/html": [
       "<div>\n",
       "<style scoped>\n",
       "    .dataframe tbody tr th:only-of-type {\n",
       "        vertical-align: middle;\n",
       "    }\n",
       "\n",
       "    .dataframe tbody tr th {\n",
       "        vertical-align: top;\n",
       "    }\n",
       "\n",
       "    .dataframe thead th {\n",
       "        text-align: right;\n",
       "    }\n",
       "</style>\n",
       "<table border=\"1\" class=\"dataframe\">\n",
       "  <thead>\n",
       "    <tr style=\"text-align: right;\">\n",
       "      <th></th>\n",
       "      <th>neighbourhood_group</th>\n",
       "      <th>latitude</th>\n",
       "      <th>longitude</th>\n",
       "      <th>room_type</th>\n",
       "      <th>price</th>\n",
       "      <th>minimum_nights</th>\n",
       "      <th>number_of_reviews</th>\n",
       "      <th>reviews_per_month</th>\n",
       "      <th>calculated_host_listings_count</th>\n",
       "      <th>availability_365</th>\n",
       "    </tr>\n",
       "  </thead>\n",
       "  <tbody>\n",
       "    <tr>\n",
       "      <th>0</th>\n",
       "      <td>Brooklyn</td>\n",
       "      <td>40.64749</td>\n",
       "      <td>-73.97237</td>\n",
       "      <td>Private room</td>\n",
       "      <td>149</td>\n",
       "      <td>1</td>\n",
       "      <td>9</td>\n",
       "      <td>0.210000</td>\n",
       "      <td>6</td>\n",
       "      <td>365</td>\n",
       "    </tr>\n",
       "    <tr>\n",
       "      <th>1</th>\n",
       "      <td>Manhattan</td>\n",
       "      <td>40.75362</td>\n",
       "      <td>-73.98377</td>\n",
       "      <td>Entire home/apt</td>\n",
       "      <td>225</td>\n",
       "      <td>1</td>\n",
       "      <td>45</td>\n",
       "      <td>0.380000</td>\n",
       "      <td>2</td>\n",
       "      <td>355</td>\n",
       "    </tr>\n",
       "    <tr>\n",
       "      <th>2</th>\n",
       "      <td>Manhattan</td>\n",
       "      <td>40.80902</td>\n",
       "      <td>-73.94190</td>\n",
       "      <td>Private room</td>\n",
       "      <td>150</td>\n",
       "      <td>3</td>\n",
       "      <td>0</td>\n",
       "      <td>1.373221</td>\n",
       "      <td>1</td>\n",
       "      <td>365</td>\n",
       "    </tr>\n",
       "    <tr>\n",
       "      <th>3</th>\n",
       "      <td>Brooklyn</td>\n",
       "      <td>40.68514</td>\n",
       "      <td>-73.95976</td>\n",
       "      <td>Entire home/apt</td>\n",
       "      <td>89</td>\n",
       "      <td>1</td>\n",
       "      <td>270</td>\n",
       "      <td>4.640000</td>\n",
       "      <td>1</td>\n",
       "      <td>194</td>\n",
       "    </tr>\n",
       "    <tr>\n",
       "      <th>4</th>\n",
       "      <td>Manhattan</td>\n",
       "      <td>40.79851</td>\n",
       "      <td>-73.94399</td>\n",
       "      <td>Entire home/apt</td>\n",
       "      <td>80</td>\n",
       "      <td>10</td>\n",
       "      <td>9</td>\n",
       "      <td>0.100000</td>\n",
       "      <td>1</td>\n",
       "      <td>0</td>\n",
       "    </tr>\n",
       "    <tr>\n",
       "      <th>...</th>\n",
       "      <td>...</td>\n",
       "      <td>...</td>\n",
       "      <td>...</td>\n",
       "      <td>...</td>\n",
       "      <td>...</td>\n",
       "      <td>...</td>\n",
       "      <td>...</td>\n",
       "      <td>...</td>\n",
       "      <td>...</td>\n",
       "      <td>...</td>\n",
       "    </tr>\n",
       "    <tr>\n",
       "      <th>48890</th>\n",
       "      <td>Brooklyn</td>\n",
       "      <td>40.67853</td>\n",
       "      <td>-73.94995</td>\n",
       "      <td>Private room</td>\n",
       "      <td>70</td>\n",
       "      <td>2</td>\n",
       "      <td>0</td>\n",
       "      <td>1.373221</td>\n",
       "      <td>2</td>\n",
       "      <td>9</td>\n",
       "    </tr>\n",
       "    <tr>\n",
       "      <th>48891</th>\n",
       "      <td>Brooklyn</td>\n",
       "      <td>40.70184</td>\n",
       "      <td>-73.93317</td>\n",
       "      <td>Private room</td>\n",
       "      <td>40</td>\n",
       "      <td>4</td>\n",
       "      <td>0</td>\n",
       "      <td>1.373221</td>\n",
       "      <td>2</td>\n",
       "      <td>36</td>\n",
       "    </tr>\n",
       "    <tr>\n",
       "      <th>48892</th>\n",
       "      <td>Manhattan</td>\n",
       "      <td>40.81475</td>\n",
       "      <td>-73.94867</td>\n",
       "      <td>Entire home/apt</td>\n",
       "      <td>115</td>\n",
       "      <td>10</td>\n",
       "      <td>0</td>\n",
       "      <td>1.373221</td>\n",
       "      <td>1</td>\n",
       "      <td>27</td>\n",
       "    </tr>\n",
       "    <tr>\n",
       "      <th>48893</th>\n",
       "      <td>Manhattan</td>\n",
       "      <td>40.75751</td>\n",
       "      <td>-73.99112</td>\n",
       "      <td>Shared room</td>\n",
       "      <td>55</td>\n",
       "      <td>1</td>\n",
       "      <td>0</td>\n",
       "      <td>1.373221</td>\n",
       "      <td>6</td>\n",
       "      <td>2</td>\n",
       "    </tr>\n",
       "    <tr>\n",
       "      <th>48894</th>\n",
       "      <td>Manhattan</td>\n",
       "      <td>40.76404</td>\n",
       "      <td>-73.98933</td>\n",
       "      <td>Private room</td>\n",
       "      <td>90</td>\n",
       "      <td>7</td>\n",
       "      <td>0</td>\n",
       "      <td>1.373221</td>\n",
       "      <td>1</td>\n",
       "      <td>23</td>\n",
       "    </tr>\n",
       "  </tbody>\n",
       "</table>\n",
       "<p>48895 rows × 10 columns</p>\n",
       "</div>"
      ],
      "text/plain": [
       "      neighbourhood_group  latitude  longitude        room_type  price  \\\n",
       "0                Brooklyn  40.64749  -73.97237     Private room    149   \n",
       "1               Manhattan  40.75362  -73.98377  Entire home/apt    225   \n",
       "2               Manhattan  40.80902  -73.94190     Private room    150   \n",
       "3                Brooklyn  40.68514  -73.95976  Entire home/apt     89   \n",
       "4               Manhattan  40.79851  -73.94399  Entire home/apt     80   \n",
       "...                   ...       ...        ...              ...    ...   \n",
       "48890            Brooklyn  40.67853  -73.94995     Private room     70   \n",
       "48891            Brooklyn  40.70184  -73.93317     Private room     40   \n",
       "48892           Manhattan  40.81475  -73.94867  Entire home/apt    115   \n",
       "48893           Manhattan  40.75751  -73.99112      Shared room     55   \n",
       "48894           Manhattan  40.76404  -73.98933     Private room     90   \n",
       "\n",
       "       minimum_nights  number_of_reviews  reviews_per_month  \\\n",
       "0                   1                  9           0.210000   \n",
       "1                   1                 45           0.380000   \n",
       "2                   3                  0           1.373221   \n",
       "3                   1                270           4.640000   \n",
       "4                  10                  9           0.100000   \n",
       "...               ...                ...                ...   \n",
       "48890               2                  0           1.373221   \n",
       "48891               4                  0           1.373221   \n",
       "48892              10                  0           1.373221   \n",
       "48893               1                  0           1.373221   \n",
       "48894               7                  0           1.373221   \n",
       "\n",
       "       calculated_host_listings_count  availability_365  \n",
       "0                                   6               365  \n",
       "1                                   2               355  \n",
       "2                                   1               365  \n",
       "3                                   1               194  \n",
       "4                                   1                 0  \n",
       "...                               ...               ...  \n",
       "48890                               2                 9  \n",
       "48891                               2                36  \n",
       "48892                               1                27  \n",
       "48893                               6                 2  \n",
       "48894                               1                23  \n",
       "\n",
       "[48895 rows x 10 columns]"
      ]
     },
     "execution_count": 19,
     "metadata": {},
     "output_type": "execute_result"
    }
   ],
   "source": [
    "data_ab_NY"
   ]
  },
  {
   "cell_type": "markdown",
   "id": "f2da3357",
   "metadata": {
    "id": "f2da3357"
   },
   "source": [
    "Now, two columns are bothering us : `neighbourhood_group` and `room_type`. What we're going to do to resolve this issue is to create a column of `0` and `1` for each occurence of this variable. In order to do that, we use the `get_dummies` function from `pandas`."
   ]
  },
  {
   "cell_type": "code",
   "execution_count": 20,
   "id": "3a7ae938",
   "metadata": {
    "id": "3a7ae938"
   },
   "outputs": [],
   "source": [
    "data_ab_NY = pd.get_dummies(data_ab_NY, columns=[\"neighbourhood_group\",\"room_type\"])"
   ]
  },
  {
   "cell_type": "markdown",
   "id": "IMT4Ha5EYwI4",
   "metadata": {
    "id": "IMT4Ha5EYwI4"
   },
   "source": [
    "We can check if we have any `Nan` values in our dataframe :"
   ]
  },
  {
   "cell_type": "code",
   "execution_count": 21,
   "id": "nQOTMBRQY4SZ",
   "metadata": {
    "colab": {
     "base_uri": "https://localhost:8080/"
    },
    "id": "nQOTMBRQY4SZ",
    "outputId": "d274251d-5183-431b-c24a-6fd96e6585c9"
   },
   "outputs": [
    {
     "name": "stdout",
     "output_type": "stream",
     "text": [
      "False\n",
      "False\n",
      "False\n",
      "False\n",
      "False\n",
      "False\n",
      "False\n",
      "False\n",
      "False\n",
      "False\n",
      "False\n",
      "False\n",
      "False\n",
      "False\n",
      "False\n",
      "False\n"
     ]
    }
   ],
   "source": [
    "for i in data_ab_NY.columns :\n",
    "  print(data_ab_NY[i].isna().any())"
   ]
  },
  {
   "cell_type": "markdown",
   "id": "yn_7bwg7WJcn",
   "metadata": {
    "id": "yn_7bwg7WJcn"
   },
   "source": [
    "Before scaling the data and make the predictions, we can have a look to the distribution of the prices."
   ]
  },
  {
   "cell_type": "code",
   "execution_count": 22,
   "id": "FsbgiGvmWTBN",
   "metadata": {
    "colab": {
     "base_uri": "https://localhost:8080/",
     "height": 312
    },
    "id": "FsbgiGvmWTBN",
    "outputId": "879011f0-59de-4502-e620-b466f9f55c3a"
   },
   "outputs": [
    {
     "data": {
      "text/plain": [
       "Text(0.5, 1.0, 'Price distribution of NY Airbnbs')"
      ]
     },
     "execution_count": 22,
     "metadata": {},
     "output_type": "execute_result"
    },
    {
     "data": {
      "image/png": "[encoded data removed]",
      "text/plain": [
       "<Figure size 432x288 with 1 Axes>"
      ]
     },
     "metadata": {
      "needs_background": "light"
     },
     "output_type": "display_data"
    }
   ],
   "source": [
    "plt.hist(data_ab_NY[\"price\"], bins=100)\n",
    "plt.xlabel(\"Price\")\n",
    "plt.ylabel(\"Frequency\")\n",
    "plt.title(\"Price distribution of NY Airbnbs\")"
   ]
  },
  {
   "cell_type": "markdown",
   "id": "2owbdldXWtC7",
   "metadata": {
    "id": "2owbdldXWtC7"
   },
   "source": [
    "Here, we can see that most of the prices are contained between 0 and 2000 dollards. We decide to remove the rows that have a price over 2000 dollards to focus on the most afordables Airbnbs while keeping few high standards locations. "
   ]
  },
  {
   "cell_type": "code",
   "execution_count": 23,
   "id": "qkunfoNAXof1",
   "metadata": {
    "id": "qkunfoNAXof1"
   },
   "outputs": [],
   "source": [
    "data_ab_NY = data_ab_NY[(data_ab_NY[\"price\"])<2000]"
   ]
  },
  {
   "cell_type": "markdown",
   "id": "My5ZGhayX6Rt",
   "metadata": {
    "id": "My5ZGhayX6Rt"
   },
   "source": [
    "We can have a look at the new price distribution."
   ]
  },
  {
   "cell_type": "code",
   "execution_count": 24,
   "id": "pHC8TwWWX_eQ",
   "metadata": {
    "colab": {
     "base_uri": "https://localhost:8080/",
     "height": 312
    },
    "id": "pHC8TwWWX_eQ",
    "outputId": "e494003e-b31f-4469-df0f-85b40a722b0d"
   },
   "outputs": [
    {
     "data": {
      "text/plain": [
       "Text(0.5, 1.0, 'Price distribution of NY Airbnbs')"
      ]
     },
     "execution_count": 24,
     "metadata": {},
     "output_type": "execute_result"
    },
    {
     "data": {
      "image/png": "[encoded data removed]",
      "text/plain": [
       "<Figure size 432x288 with 1 Axes>"
      ]
     },
     "metadata": {
      "needs_background": "light"
     },
     "output_type": "display_data"
    }
   ],
   "source": [
    "plt.hist(data_ab_NY[\"price\"], bins=100)\n",
    "plt.xlabel(\"Price\")\n",
    "plt.ylabel(\"Frequency\")\n",
    "plt.title(\"Price distribution of NY Airbnbs\")"
   ]
  },
  {
   "cell_type": "markdown",
   "id": "75d6ecff",
   "metadata": {
    "id": "75d6ecff"
   },
   "source": [
    "Now that we have a dataframe with only numeric values and filtered on the prices, we're going to scale the data to ease the use of them. Before scaling the data we will drop the column `price` because we want to predict it."
   ]
  },
  {
   "cell_type": "code",
   "execution_count": 17,
   "id": "5882c01f",
   "metadata": {
    "id": "5882c01f"
   },
   "outputs": [],
   "source": [
    "X_ab_NY = data_ab_NY.drop(\"price\", axis=1)"
   ]
  },
  {
   "cell_type": "code",
   "execution_count": 18,
   "id": "a4b1cf45",
   "metadata": {
    "colab": {
     "base_uri": "https://localhost:8080/"
    },
    "id": "a4b1cf45",
    "outputId": "1cc306bf-69ef-4588-a44d-238c4f24e556"
   },
   "outputs": [
    {
     "name": "stdout",
     "output_type": "stream",
     "text": [
      "Scaled data\n",
      "[[-1.49384920e+00 -4.37652087e-01 -2.93996210e-01 ... -1.04013392e+00\n",
      "   1.09089297e+00 -1.55887227e-01]\n",
      " [ 4.52436023e-01 -6.84639148e-01 -2.93996210e-01 ...  9.61414663e-01\n",
      "  -9.16680210e-01 -1.55887227e-01]\n",
      " [ 1.46839948e+00  2.22496662e-01 -1.96484417e-01 ... -1.04013392e+00\n",
      "   1.09089297e+00 -1.55887227e-01]\n",
      " ...\n",
      " [ 1.57348017e+00  7.58210126e-02  1.44806857e-01 ...  9.61414663e-01\n",
      "  -9.16680210e-01 -1.55887227e-01]\n",
      " [ 5.23773529e-01 -8.43880805e-01 -2.93996210e-01 ... -1.04013392e+00\n",
      "  -9.16680210e-01  6.41489377e+00]\n",
      " [ 6.43525178e-01 -8.05099504e-01 -1.46083215e-03 ... -1.04013392e+00\n",
      "   1.09089297e+00 -1.55887227e-01]]\n",
      "\n",
      "Means\n",
      "[ 3.92689846e-14  1.66097412e-13  1.10443293e-17  1.86009756e-17\n",
      "  2.79014634e-17 -1.86009756e-17  0.00000000e+00  4.65024390e-18\n",
      "  1.25556585e-16 -3.48768292e-18 -6.74285365e-17 -1.33694512e-17\n",
      " -9.47487194e-17 -1.16256097e-18  1.86009756e-17]\n",
      "\n",
      "Standard deviations\n",
      "[1. 1. 1. 1. 1. 1. 1. 1. 1. 1. 1. 1. 1. 1. 1.]\n"
     ]
    }
   ],
   "source": [
    "scaler = StandardScaler()\n",
    "scaler.fit(X_ab_NY)\n",
    "X_scaled = scaler.transform(X_ab_NY)\n",
    "\n",
    "print(\"Scaled data\")\n",
    "print(X_scaled)\n",
    "print(\"\\nMeans\")\n",
    "print(X_scaled.mean(axis=0))\n",
    "print(\"\\nStandard deviations\")\n",
    "print(X_scaled.std(axis=0))"
   ]
  },
  {
   "cell_type": "markdown",
   "id": "otq-YKzgZbjd",
   "metadata": {
    "id": "otq-YKzgZbjd"
   },
   "source": [
    "All means are close to `0` and all standard deviations are equals to `1`. Our datas are perfectly scaled."
   ]
  },
  {
   "cell_type": "markdown",
   "id": "cd54ab4e",
   "metadata": {
    "id": "cd54ab4e"
   },
   "source": [
    "# Creation of train and test dataframes"
   ]
  },
  {
   "cell_type": "code",
   "execution_count": 19,
   "id": "5c8a6c0a",
   "metadata": {
    "id": "5c8a6c0a"
   },
   "outputs": [],
   "source": [
    "X_train, X_test, y_train, y_test = train_test_split(X_scaled, data_ab_NY[\"price\"], test_size=0.33, random_state=42, shuffle=True)"
   ]
  },
  {
   "cell_type": "markdown",
   "id": "da4c7f49-2a41-4c6f-afe9-9da6ff89684a",
   "metadata": {},
   "source": [
    "# Models comparison"
   ]
  },
  {
   "cell_type": "markdown",
   "id": "3999d795-711f-4119-a54c-04e6fac2d668",
   "metadata": {},
   "source": [
    "To compare our models we will use the Residual Mean Square Error also called RMSE. its formula is : $RMSE = \\sqrt{\\frac{1}{n}\\Sigma_{i=1}^{n}{\\Big(\\frac{\\hat{y_i} -y_i}{\\sigma_i}\\Big)^2}}$ with $\\hat{y_i}$ being the predicted values and $y_i$ the real values."
   ]
  },
  {
   "cell_type": "markdown",
   "id": "0172e129",
   "metadata": {
    "id": "0172e129"
   },
   "source": [
    "# Linear models"
   ]
  },
  {
   "cell_type": "markdown",
   "id": "tScRMWHMaEbu",
   "metadata": {
    "id": "tScRMWHMaEbu"
   },
   "source": [
    "In this section, we will try three linear models from the `sklearn.linear_model` library. The three models we will try are : \n",
    "\n",
    "* `LinearRegression`\n",
    "* `Ridge`\n",
    "* `Lasso`\n",
    "\n",
    "For each of theses models we will :\n",
    "\n",
    "1.  Search the best parameters by cross validation \n",
    "2.  Create a model with the best parameters\n",
    "3. Compute the mean squared error \n",
    "\n",
    "\n",
    "\n"
   ]
  },
  {
   "cell_type": "markdown",
   "id": "D15IH0l6bLdH",
   "metadata": {
    "id": "D15IH0l6bLdH"
   },
   "source": [
    "## `LinearRegression`"
   ]
  },
  {
   "cell_type": "markdown",
   "id": "be06ae27",
   "metadata": {
    "id": "be06ae27"
   },
   "source": [
    "### Searching the best parameters"
   ]
  },
  {
   "cell_type": "code",
   "execution_count": 20,
   "id": "fb94c6b0",
   "metadata": {
    "colab": {
     "base_uri": "https://localhost:8080/"
    },
    "id": "fb94c6b0",
    "outputId": "2800adfb-d68e-4472-81c9-987a2117e2ea"
   },
   "outputs": [
    {
     "name": "stdout",
     "output_type": "stream",
     "text": [
      "{'copy_X': True, 'fit_intercept': True}\n"
     ]
    }
   ],
   "source": [
    "parameters = {'fit_intercept':[True,False], 'copy_X':[True, False]}\n",
    "\n",
    "lr_grid_search = GridSearchCV(estimator=LinearRegression(),\n",
    "                             param_grid=parameters,\n",
    "                             scoring='neg_mean_squared_error',\n",
    "                             cv=5,\n",
    "                             n_jobs=-1)\n",
    "\n",
    "lr_grid_search.fit(X_train, y_train)\n",
    "\n",
    "lr_best_parameters = lr_grid_search.best_params_  \n",
    "lr_best_score = lr_grid_search.best_score_ \n",
    "print(lr_best_parameters)"
   ]
  },
  {
   "cell_type": "markdown",
   "id": "28949a19",
   "metadata": {
    "id": "28949a19"
   },
   "source": [
    "### Creating a model with the best parameters"
   ]
  },
  {
   "cell_type": "code",
   "execution_count": 21,
   "id": "7205c63f",
   "metadata": {
    "id": "7205c63f"
   },
   "outputs": [],
   "source": [
    "lr_best_model = LinearRegression(copy_X=lr_best_parameters[\"copy_X\"], fit_intercept=lr_best_parameters[\"fit_intercept\"])\n",
    "\n",
    "lr_best_model.fit(X_train, y_train)\n",
    "\n",
    "lr_prediction = lr_best_model.predict(X_test)"
   ]
  },
  {
   "cell_type": "markdown",
   "id": "a4AZe9d9c41m",
   "metadata": {
    "id": "a4AZe9d9c41m"
   },
   "source": [
    "### Computing the RMSE (Residual mean square error)"
   ]
  },
  {
   "cell_type": "code",
   "execution_count": 22,
   "id": "pXoWxSVkc-y3",
   "metadata": {
    "colab": {
     "base_uri": "https://localhost:8080/"
    },
    "id": "pXoWxSVkc-y3",
    "outputId": "8ee20fad-0224-4ffc-badd-4293f114cb2c"
   },
   "outputs": [
    {
     "name": "stdout",
     "output_type": "stream",
     "text": [
      "188.94297571947786\n"
     ]
    }
   ],
   "source": [
    "lr_error = mean_squared_error(y_test, lr_prediction)\n",
    "print(np.sqrt(lr_error))"
   ]
  },
  {
   "cell_type": "markdown",
   "id": "7a7301df",
   "metadata": {
    "id": "7a7301df"
   },
   "source": [
    "## `Ridge`"
   ]
  },
  {
   "cell_type": "markdown",
   "id": "6b2447b6",
   "metadata": {
    "id": "6b2447b6"
   },
   "source": [
    "### Searching the best parameters"
   ]
  },
  {
   "cell_type": "code",
   "execution_count": 23,
   "id": "338ad06b",
   "metadata": {
    "colab": {
     "base_uri": "https://localhost:8080/"
    },
    "id": "338ad06b",
    "outputId": "22b9acea-03f9-4b38-ba34-9ffcd894a4ec"
   },
   "outputs": [
    {
     "name": "stdout",
     "output_type": "stream",
     "text": [
      "{'alpha': 1.0, 'copy_X': True, 'fit_intercept': True}\n",
      "-60093.9100264733\n"
     ]
    }
   ],
   "source": [
    "alphas = np.array([1,0.4,0.1,0.01,0.001,0.0001])\n",
    "fit_intercept = [True, False]\n",
    "copy_X = [True, False]\n",
    "\n",
    "ridge_parameters = {\"alpha\" : alphas, \"fit_intercept\":fit_intercept, \"copy_X\" : copy_X}\n",
    "\n",
    "ridge_grid_search = GridSearchCV(estimator=Ridge(),  \n",
    "                         param_grid=ridge_parameters,\n",
    "                         scoring='neg_mean_squared_error',\n",
    "                         cv=5,\n",
    "                         n_jobs=-1)\n",
    "\n",
    "ridge_grid_search.fit(X_train, y_train)\n",
    "\n",
    "ridge_best_parameters = ridge_grid_search.best_params_  \n",
    "ridge_best_score = ridge_grid_search.best_score_ \n",
    "print(ridge_best_parameters)\n",
    "print(ridge_best_score)"
   ]
  },
  {
   "cell_type": "markdown",
   "id": "0b04ad5a",
   "metadata": {
    "id": "0b04ad5a"
   },
   "source": [
    "### Creating a model with the best parameters"
   ]
  },
  {
   "cell_type": "code",
   "execution_count": 24,
   "id": "4878e04f",
   "metadata": {
    "id": "4878e04f"
   },
   "outputs": [],
   "source": [
    "ridge_best_model = Ridge(alpha=1, copy_X=True, fit_intercept=True)\n",
    "\n",
    "ridge_best_model.fit(X_train, y_train)\n",
    "\n",
    "ridge_prediction = ridge_best_model.predict(X_test)"
   ]
  },
  {
   "cell_type": "markdown",
   "id": "DsjAIp00exjA",
   "metadata": {
    "id": "DsjAIp00exjA"
   },
   "source": [
    "### Compute the RMSE (Residual mean square error)"
   ]
  },
  {
   "cell_type": "code",
   "execution_count": 25,
   "id": "61af325e",
   "metadata": {
    "colab": {
     "base_uri": "https://localhost:8080/"
    },
    "id": "61af325e",
    "outputId": "f53212c4-65c2-4c08-c1dd-a1c1f0b58b46"
   },
   "outputs": [
    {
     "name": "stdout",
     "output_type": "stream",
     "text": [
      "188.95527065972266\n"
     ]
    }
   ],
   "source": [
    "ridge_error = mean_squared_error(y_test, ridge_prediction)\n",
    "print(np.sqrt(ridge_error))"
   ]
  },
  {
   "cell_type": "markdown",
   "id": "fd6696db",
   "metadata": {
    "id": "fd6696db"
   },
   "source": [
    "## `Lasso`"
   ]
  },
  {
   "cell_type": "markdown",
   "id": "e3e6c95c",
   "metadata": {
    "id": "e3e6c95c"
   },
   "source": [
    "### Searching the best parameters"
   ]
  },
  {
   "cell_type": "code",
   "execution_count": null,
   "id": "4d89069b",
   "metadata": {
    "colab": {
     "base_uri": "https://localhost:8080/"
    },
    "id": "4d89069b",
    "outputId": "07a09003-2b2d-4119-f50e-070b09f0eddc"
   },
   "outputs": [],
   "source": [
    "alphas = np.array([1,0.4,0.1,0.01,0.001,0.0001,0])\n",
    "fit_intercept = [True, False]\n",
    "copy_X = [True, False]\n",
    "max_iter = [500, 1000, 2000, 3000]\n",
    "\n",
    "lasso_parameters = {\"alpha\":alphas, \"fit_intercept\": fit_intercept, \"copy_X\" : copy_X, \"max_iter\" : max_iter}\n",
    "\n",
    "lasso_grid_search = GridSearchCV(estimator=Lasso(),  \n",
    "                         param_grid=lasso_parameters,\n",
    "                         scoring='neg_mean_squared_error',\n",
    "                         cv=5,\n",
    "                         n_jobs=-1)\n",
    "\n",
    "lasso_grid_search.fit(X_train, y_train)\n",
    "\n",
    "lasso_best_parameters = lasso_grid_search.best_params_  \n",
    "lasso_best_score = lasso_grid_search.best_score_ \n",
    "print(lasso_best_parameters)\n",
    "print(lasso_best_score)"
   ]
  },
  {
   "cell_type": "markdown",
   "id": "7633eeea",
   "metadata": {
    "id": "7633eeea"
   },
   "source": [
    "### Creating a model with the best parameters"
   ]
  },
  {
   "cell_type": "code",
   "execution_count": 28,
   "id": "31e2fa44",
   "metadata": {
    "colab": {
     "base_uri": "https://localhost:8080/"
    },
    "id": "31e2fa44",
    "outputId": "2ab1b5fc-6be0-418b-8053-cd82249d17c6"
   },
   "outputs": [],
   "source": [
    "lasso_best_model = Lasso(alpha=lasso_best_parameters[\"alpha\"],\n",
    "                         copy_X=lasso_best_parameters[\"copy_X\"],\n",
    "                         fit_intercept=lasso_best_parameters[\"fit_intercept\"], \n",
    "                         max_iter= lasso_best_parameters[\"max_iter\"])\n",
    "\n",
    "lasso_best_model.fit(X_train, y_train)\n",
    "\n",
    "lasso_prediction = lasso_best_model.predict(X_test)"
   ]
  },
  {
   "cell_type": "markdown",
   "id": "yA1SCM2cha4P",
   "metadata": {
    "id": "yA1SCM2cha4P"
   },
   "source": [
    "### Computing the RMSE (residual mean square error)"
   ]
  },
  {
   "cell_type": "code",
   "execution_count": 29,
   "id": "418c2b9c",
   "metadata": {
    "colab": {
     "base_uri": "https://localhost:8080/"
    },
    "id": "418c2b9c",
    "outputId": "11d7d253-3300-46cc-d6a6-f16397faa919"
   },
   "outputs": [
    {
     "name": "stdout",
     "output_type": "stream",
     "text": [
      "188.94193817371195\n"
     ]
    }
   ],
   "source": [
    "lasso_error = mean_squared_error(y_test, lasso_prediction)\n",
    "print(np.sqrt(lasso_error))"
   ]
  },
  {
   "cell_type": "markdown",
   "id": "TxEEAM3Up6ur",
   "metadata": {
    "id": "TxEEAM3Up6ur"
   },
   "source": [
    "Here we saw that all three linear regression models have slightly the sames RMSE. We decide to check other models to see if we can drop the RMSE. In the next sections we will see the Random forests and Gradient boosting."
   ]
  },
  {
   "cell_type": "markdown",
   "id": "3023b5b1",
   "metadata": {
    "id": "3023b5b1"
   },
   "source": [
    "# Random forest"
   ]
  },
  {
   "cell_type": "markdown",
   "id": "YIgZ8wyjj5kQ",
   "metadata": {
    "id": "YIgZ8wyjj5kQ"
   },
   "source": [
    "## `RandomForestRegressor`"
   ]
  },
  {
   "cell_type": "markdown",
   "id": "tj4PX0Y7dOJw",
   "metadata": {
    "id": "tj4PX0Y7dOJw"
   },
   "source": [
    "### Searching the best parameters"
   ]
  },
  {
   "cell_type": "code",
   "execution_count": 30,
   "id": "M5bPsxgDdQjB",
   "metadata": {
    "colab": {
     "base_uri": "https://localhost:8080/"
    },
    "id": "M5bPsxgDdQjB",
    "outputId": "ee85934e-6d83-43b3-b52f-1fb93d52ed8b"
   },
   "outputs": [
    {
     "name": "stdout",
     "output_type": "stream",
     "text": [
      "{'max_depth': 10, 'min_samples_split': 10, 'n_estimators': 50}\n",
      "-59951.64986004003\n"
     ]
    }
   ],
   "source": [
    "max_depth = [1,2,5,10]\n",
    "min_samples_split = [2,3,5,10]\n",
    "n_estimators = [50, 100, 200]\n",
    "\n",
    "rf_parameters = {\"max_depth\" : max_depth, \"min_samples_split\" : min_samples_split, \"n_estimators\" : n_estimators}\n",
    "\n",
    "rf_grid_search = GridSearchCV(estimator=RandomForestRegressor(),  \n",
    "                         param_grid=rf_parameters,\n",
    "                         scoring='neg_mean_squared_error',\n",
    "                         cv=5,\n",
    "                         n_jobs=-1)\n",
    "\n",
    "rf_grid_search.fit(X_train, y_train)\n",
    "\n",
    "rf_best_parameters = rf_grid_search.best_params_\n",
    "rf_best_score = rf_grid_search.best_score_\n",
    "print(rf_best_parameters)\n",
    "print(rf_best_score)"
   ]
  },
  {
   "cell_type": "markdown",
   "id": "K8p4O8jEl4MU",
   "metadata": {
    "id": "K8p4O8jEl4MU"
   },
   "source": [
    "### Model with the best parameters"
   ]
  },
  {
   "cell_type": "code",
   "execution_count": 31,
   "id": "ae4baae8",
   "metadata": {
    "id": "ae4baae8"
   },
   "outputs": [],
   "source": [
    "best_rf = RandomForestRegressor(max_depth=rf_best_parameters[\"max_depth\"], min_samples_split = rf_best_parameters[\"min_samples_split\"], n_estimators=rf_best_parameters[\"n_estimators\"])\n",
    "best_rf.fit(X_train,y_train)\n",
    "pred_rf = best_rf.predict(X_test)"
   ]
  },
  {
   "cell_type": "markdown",
   "id": "mXbXFN5MmCY2",
   "metadata": {
    "id": "mXbXFN5MmCY2"
   },
   "source": [
    "### Computing the RMSE (residual mean square error)"
   ]
  },
  {
   "cell_type": "code",
   "execution_count": 32,
   "id": "VzJpms_NmCx1",
   "metadata": {
    "colab": {
     "base_uri": "https://localhost:8080/"
    },
    "id": "VzJpms_NmCx1",
    "outputId": "a4855dfc-ff73-46c7-a306-4ac72ffc046f"
   },
   "outputs": [
    {
     "name": "stdout",
     "output_type": "stream",
     "text": [
      "184.74031365147698\n"
     ]
    }
   ],
   "source": [
    "error_rf = mean_squared_error(y_test, pred_rf)\n",
    "print(np.sqrt(error_rf))"
   ]
  },
  {
   "cell_type": "markdown",
   "id": "b21d556e-7602-4ac5-9c07-c0dbd418d9ec",
   "metadata": {},
   "source": [
    "The RMSE is lower than with the linear models, for the moment, this model is the best we found."
   ]
  },
  {
   "cell_type": "markdown",
   "id": "ada5e938",
   "metadata": {
    "id": "ada5e938"
   },
   "source": [
    "# Gradient Boosting"
   ]
  },
  {
   "cell_type": "markdown",
   "id": "iBgv0JdYmL_4",
   "metadata": {
    "id": "iBgv0JdYmL_4"
   },
   "source": [
    "## `GradientBosstingRegressor`"
   ]
  },
  {
   "cell_type": "markdown",
   "id": "fn6d2bV2mWt-",
   "metadata": {
    "id": "fn6d2bV2mWt-"
   },
   "source": [
    "### Searching the best parameters"
   ]
  },
  {
   "cell_type": "code",
   "execution_count": 34,
   "id": "b9f38468",
   "metadata": {
    "colab": {
     "base_uri": "https://localhost:8080/"
    },
    "id": "b9f38468",
    "outputId": "95bbdda0-132c-45bc-e774-ec3dcd1178bc"
   },
   "outputs": [
    {
     "name": "stdout",
     "output_type": "stream",
     "text": [
      "{'learning_rate': 0.1, 'min_samples_split': 2, 'n_estimators': 100}\n",
      "-59376.42041781595\n"
     ]
    }
   ],
   "source": [
    "learning_rate = [0.01, 0.1, 0.5]\n",
    "min_samples_split = [2,5,10, 20]\n",
    "n_estimators = [100, 300]\n",
    "\n",
    "gbr_parameters = {\"learning_rate\" : learning_rate, \n",
    "                  \"min_samples_split\" : min_samples_split, \n",
    "                  \"n_estimators\" : n_estimators}\n",
    "\n",
    "gbr_grid_search = GridSearchCV(estimator=GradientBoostingRegressor(),  \n",
    "                         param_grid=gbr_parameters,\n",
    "                         scoring='neg_mean_squared_error',\n",
    "                         cv=5,\n",
    "                         n_jobs=-1)\n",
    "\n",
    "gbr_grid_search.fit(X_train, y_train)\n",
    "\n",
    "gbr_best_parameters = gbr_grid_search.best_params_\n",
    "gbr_best_score = gbr_grid_search.best_score_\n",
    "print(gbr_best_parameters)\n",
    "print(gbr_best_score)"
   ]
  },
  {
   "cell_type": "markdown",
   "id": "PKzGPE2YoaEn",
   "metadata": {
    "id": "PKzGPE2YoaEn"
   },
   "source": [
    "### Model with the best parameters"
   ]
  },
  {
   "cell_type": "code",
   "execution_count": 35,
   "id": "74d1c258",
   "metadata": {
    "id": "74d1c258"
   },
   "outputs": [],
   "source": [
    "gbr_model = GradientBoostingRegressor(learning_rate = gbr_best_parameters[\"learning_rate\"], \n",
    "                                      min_samples_split = gbr_best_parameters[\"min_samples_split\"], \n",
    "                                      n_estimators = gbr_best_parameters[\"n_estimators\"])\n",
    "\n",
    "gbr_model.fit(X_train, y_train)\n",
    "\n",
    "gbr_prediction = gbr_model.predict(X_test)"
   ]
  },
  {
   "cell_type": "markdown",
   "id": "1AoxjxPLo2JT",
   "metadata": {
    "id": "1AoxjxPLo2JT"
   },
   "source": [
    "### Compute the RMSE (Residual mean square error)"
   ]
  },
  {
   "cell_type": "code",
   "execution_count": 36,
   "id": "moMHUYI-iOoi",
   "metadata": {
    "colab": {
     "base_uri": "https://localhost:8080/"
    },
    "id": "moMHUYI-iOoi",
    "outputId": "fa200501-34da-4ef8-edb2-af9002014f56"
   },
   "outputs": [
    {
     "name": "stdout",
     "output_type": "stream",
     "text": [
      "183.86461426307181\n"
     ]
    }
   ],
   "source": [
    "gbr_error = mean_squared_error(y_test, gbr_prediction)\n",
    "print(np.sqrt(gbr_error))"
   ]
  },
  {
   "cell_type": "markdown",
   "id": "6bd131c9",
   "metadata": {},
   "source": [
    "The RMSE is lower than the Random forest's one. This model is the best one we hve for the moment."
   ]
  },
  {
   "cell_type": "markdown",
   "id": "34a8924e",
   "metadata": {
    "id": "34a8924e"
   },
   "source": [
    "# PCA"
   ]
  },
  {
   "cell_type": "markdown",
   "id": "v6JU0_c0osiT",
   "metadata": {
    "id": "v6JU0_c0osiT"
   },
   "source": [
    "We're going to use the PCA with `GradientBoostingRegressor` because it got the lower RMSE. We'll try to get a lower RMSE with the PCA."
   ]
  },
  {
   "cell_type": "markdown",
   "id": "472e21d2",
   "metadata": {
    "id": "472e21d2"
   },
   "source": [
    "## PCA with `GradientBoostingRegressor`"
   ]
  },
  {
   "cell_type": "code",
   "execution_count": null,
   "id": "62691358",
   "metadata": {
    "colab": {
     "base_uri": "https://localhost:8080/"
    },
    "id": "62691358",
    "outputId": "ee1d4759-0163-426b-d65a-787553d1dab5"
   },
   "outputs": [],
   "source": [
    "gbr_pca_pipe = Pipeline([('pca', PCA() ), ('GradientBoostingRegressor', GradientBoostingRegressor(learning_rate = gbr_best_parameters[\"learning_rate\"], \n",
    "                                      min_samples_split = gbr_best_parameters[\"min_samples_split\"], \n",
    "                                      n_estimators = gbr_best_parameters[\"n_estimators\"])\n",
    ")])\n",
    "\n",
    "parameters = {'pca__n_components':np.arange(1,20,1)}\n",
    "gbr_pca = GridSearchCV(gbr_pca_pipe, parameters, scoring = 'neg_mean_squared_error', n_jobs=-1)\n",
    "\n",
    "gbr_pca.fit(X_train,y_train)"
   ]
  },
  {
   "cell_type": "code",
   "execution_count": 42,
   "id": "cb1c68c6",
   "metadata": {
    "colab": {
     "base_uri": "https://localhost:8080/"
    },
    "id": "cb1c68c6",
    "outputId": "44f9e87b-4d58-4ee7-ea95-2401cc76b43e"
   },
   "outputs": [
    {
     "name": "stdout",
     "output_type": "stream",
     "text": [
      "Pipeline(steps=[('pca', PCA(n_components=7)),\n",
      "                ('GradientBoostingRegressor', GradientBoostingRegressor())])\n"
     ]
    }
   ],
   "source": [
    "print(gbr_pca.best_estimator_)"
   ]
  },
  {
   "cell_type": "code",
   "execution_count": 43,
   "id": "567a0ed1",
   "metadata": {
    "colab": {
     "base_uri": "https://localhost:8080/"
    },
    "id": "567a0ed1",
    "outputId": "6595ba10-8a34-487f-c026-64663c1ea0f4"
   },
   "outputs": [
    {
     "name": "stdout",
     "output_type": "stream",
     "text": [
      "197.0741819764945\n"
     ]
    }
   ],
   "source": [
    "pred_gbr_pca = gbr_pca.predict(X_test)\n",
    "\n",
    "error_gbr_pca = mean_squared_error(y_test, pred_gbr_pca)\n",
    "\n",
    "print(np.sqrt(error_gbr_pca))"
   ]
  },
  {
   "cell_type": "markdown",
   "id": "a6f5e51c-bbf1-4274-903d-db74eb43e822",
   "metadata": {},
   "source": [
    "We can see here that the RMSE is higher than the one found with the `GradientBoostingRegressor`. The PCA does not create a beter model."
   ]
  },
  {
   "cell_type": "markdown",
   "id": "icZ2An01vvJq",
   "metadata": {
    "id": "icZ2An01vvJq"
   },
   "source": [
    "# Model selection"
   ]
  },
  {
   "cell_type": "markdown",
   "id": "cdebdaa9-5b60-4352-8133-a5a889d1087a",
   "metadata": {
    "id": "rXcTEsHNvw54"
   },
   "source": [
    "From the six models we tried, the on that have the lower RMSE is `GradientBoostingRegressor`. We can still represent the RMSE of our six algorithms to compare them."
   ]
  },
  {
   "cell_type": "code",
   "execution_count": 46,
   "id": "68345712-62e6-4cbd-b105-08c401607fbd",
   "metadata": {},
   "outputs": [],
   "source": [
    "model = [\"LinearRegression\", \"Ridge\", \"Lasso\", \"RandomForestRegressor\", \"GradientBoostingRegressor\", \"GradientBoostingRegressor_PCA\"]\n",
    "RMSE = [np.sqrt(lr_error), np.sqrt(ridge_error), np.sqrt(lasso_error), np.sqrt(error_rf), np.sqrt(gbr_error), np.sqrt(error_gbr_pca)]\n",
    "df_scores = pd.DataFrame({\"model\" : model, \"RMSE\" : RMSE})\n",
    "df_scores = df_scores.sort_values(by=['RMSE'])"
   ]
  },
  {
   "cell_type": "code",
   "execution_count": 54,
   "id": "3acbbfbc-3667-419e-b992-97b907e599b7",
   "metadata": {},
   "outputs": [
    {
     "data": {
      "image/png": "[encoded data removed]",
      "text/plain": [
       "<Figure size 640x480 with 1 Axes>"
      ]
     },
     "metadata": {},
     "output_type": "display_data"
    }
   ],
   "source": [
    "plt.bar(df_scores[\"model\"], df_scores[\"RMSE\"])\n",
    "plt.ylim(175,200)\n",
    "plt.xticks(rotation=30, ha='right')\n",
    "plt.title(\"Comparison of model's RMSE\")\n",
    "plt.show()"
   ]
  },
  {
   "cell_type": "markdown",
   "id": "1dddb29c-5dc7-4685-81dd-576173cea65a",
   "metadata": {},
   "source": [
    "We can clearly see with this representation that `GradientBoostingRegressor` is the best model followed by `RandomForestRegressor` and then by the three linear models that have almost the same RMSE. The PCA on `RandonForestRegressor` wasn't great and had the worst RMSE. "
   ]
  }
 ],
 "metadata": {
  "colab": {
   "provenance": []
  },
  "kernelspec": {
   "display_name": "Python 3 (ipykernel)",
   "language": "python",
   "name": "python3"
  },
  "language_info": {
   "codemirror_mode": {
    "name": "ipython",
    "version": 3
   },
   "file_extension": ".py",
   "mimetype": "text/x-python",
   "name": "python",
   "nbconvert_exporter": "python",
   "pygments_lexer": "ipython3",
   "version": "3.9.10"
  }
 },
 "nbformat": 4,
 "nbformat_minor": 5
}
